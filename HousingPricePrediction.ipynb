{
 "cells": [
  {
   "cell_type": "code",
   "execution_count": 7,
   "id": "cfcf359d",
   "metadata": {},
   "outputs": [],
   "source": [
    "import pandas as pd\n",
    "import numpy as np\n",
    "import matplotlib.pyplot as plt\n",
    "import sklearn\n",
    "from sklearn import linear_model\n",
    "import joblib"
   ]
  },
  {
   "cell_type": "code",
   "execution_count": null,
   "id": "94e85656",
   "metadata": {},
   "outputs": [],
   "source": [
    "df = pd.read_csv('homeprices.csv')\n",
    "df"
   ]
  },
  {
   "cell_type": "code",
   "execution_count": null,
   "id": "a10696fb",
   "metadata": {},
   "outputs": [],
   "source": [
    "#plot area vs price in a graph\n",
    "\n",
    "%matplotlib inline\n",
    "plt.xlabel('area')\n",
    "plt.ylabel('price(us$)')\n",
    "plt.scatter(df.area, df.price,color='r',marker='+')"
   ]
  },
  {
   "cell_type": "code",
   "execution_count": null,
   "id": "2cb89ec3",
   "metadata": {},
   "outputs": [],
   "source": [
    "#create a model\n",
    "reg = linear_model.LinearRegression()\n",
    "reg.fit(df[['area']],df.price)"
   ]
  },
  {
   "cell_type": "code",
   "execution_count": null,
   "id": "610425fe",
   "metadata": {},
   "outputs": [],
   "source": [
    "reg.predict([[3300]])"
   ]
  },
  {
   "cell_type": "code",
   "execution_count": null,
   "id": "1d80714c",
   "metadata": {},
   "outputs": [],
   "source": [
    "reg.coef_"
   ]
  },
  {
   "cell_type": "code",
   "execution_count": null,
   "id": "8a5f4650",
   "metadata": {},
   "outputs": [],
   "source": [
    "reg.intercept_"
   ]
  },
  {
   "cell_type": "code",
   "execution_count": null,
   "id": "546750cb",
   "metadata": {},
   "outputs": [],
   "source": [
    "\n",
    "135.78767123*3300+180616.43835616432"
   ]
  },
  {
   "cell_type": "code",
   "execution_count": null,
   "id": "554252fd",
   "metadata": {},
   "outputs": [],
   "source": [
    "##co ef line in the graph\n",
    "\n",
    "%matplotlib inline\n",
    "plt.xlabel('area',fontsize=30)\n",
    "plt.ylabel('price(us$)',fontsize=30)\n",
    "plt.scatter(df.area, df.price,color='r',marker='+')\n",
    "plt.plot(df.area, reg.predict(df[['area']]),color='blue')"
   ]
  },
  {
   "cell_type": "code",
   "execution_count": null,
   "id": "cb819b6c",
   "metadata": {},
   "outputs": [],
   "source": [
    "areas_house= pd.read_csv('areas.csv')\n",
    "areas_house.head(3)\n"
   ]
  },
  {
   "cell_type": "code",
   "execution_count": null,
   "id": "0db61836",
   "metadata": {},
   "outputs": [],
   "source": [
    "pricingprediction = reg.predict(areas_house)\n",
    "pricingprediction"
   ]
  },
  {
   "cell_type": "code",
   "execution_count": null,
   "id": "01ac21f5",
   "metadata": {},
   "outputs": [],
   "source": [
    "areas_house ['price'] = pricingprediction\n",
    "areas_house"
   ]
  },
  {
   "cell_type": "code",
   "execution_count": null,
   "id": "362f349c",
   "metadata": {},
   "outputs": [],
   "source": [
    "areas_house.to_csv('prediction.csv')"
   ]
  },
  {
   "cell_type": "code",
   "execution_count": 10,
   "id": "1c3e2e09",
   "metadata": {},
   "outputs": [
    {
     "ename": "NameError",
     "evalue": "name 'pricingprediction' is not defined",
     "output_type": "error",
     "traceback": [
      "\u001b[1;31m---------------------------------------------------------------------------\u001b[0m",
      "\u001b[1;31mNameError\u001b[0m                                 Traceback (most recent call last)",
      "\u001b[1;32mC:\\Users\\FAIZAL~1\\AppData\\Local\\Temp/ipykernel_22684/483982783.py\u001b[0m in \u001b[0;36m<module>\u001b[1;34m\u001b[0m\n\u001b[1;32m----> 1\u001b[1;33m \u001b[0mjoblib\u001b[0m\u001b[1;33m.\u001b[0m\u001b[0mdump\u001b[0m\u001b[1;33m(\u001b[0m\u001b[0mpricingprediction\u001b[0m\u001b[1;33m,\u001b[0m \u001b[1;34m'areas_house_joblib'\u001b[0m\u001b[1;33m)\u001b[0m\u001b[1;33m\u001b[0m\u001b[1;33m\u001b[0m\u001b[0m\n\u001b[0m",
      "\u001b[1;31mNameError\u001b[0m: name 'pricingprediction' is not defined"
     ]
    }
   ],
   "source": [
    "joblib.dump(pricingprediction, 'areas_house_joblib')"
   ]
  },
  {
   "cell_type": "code",
   "execution_count": null,
   "id": "dd99faad",
   "metadata": {},
   "outputs": [],
   "source": []
  }
 ],
 "metadata": {
  "kernelspec": {
   "display_name": "Python 3 (ipykernel)",
   "language": "python",
   "name": "python3"
  },
  "language_info": {
   "codemirror_mode": {
    "name": "ipython",
    "version": 3
   },
   "file_extension": ".py",
   "mimetype": "text/x-python",
   "name": "python",
   "nbconvert_exporter": "python",
   "pygments_lexer": "ipython3",
   "version": "3.9.7"
  }
 },
 "nbformat": 4,
 "nbformat_minor": 5
}
